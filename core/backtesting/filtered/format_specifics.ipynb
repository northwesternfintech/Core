{
 "cells": [
  {
   "cell_type": "code",
   "execution_count": 2,
   "metadata": {},
   "outputs": [
    {
     "data": {
      "text/html": [
       "<div>\n",
       "<style scoped>\n",
       "    .dataframe tbody tr th:only-of-type {\n",
       "        vertical-align: middle;\n",
       "    }\n",
       "\n",
       "    .dataframe tbody tr th {\n",
       "        vertical-align: top;\n",
       "    }\n",
       "\n",
       "    .dataframe thead th {\n",
       "        text-align: right;\n",
       "    }\n",
       "</style>\n",
       "<table border=\"1\" class=\"dataframe\">\n",
       "  <thead>\n",
       "    <tr style=\"text-align: right;\">\n",
       "      <th></th>\n",
       "      <th>time</th>\n",
       "      <th>open</th>\n",
       "      <th>high</th>\n",
       "      <th>low</th>\n",
       "      <th>close</th>\n",
       "      <th>volume</th>\n",
       "      <th>name</th>\n",
       "      <th>date</th>\n",
       "    </tr>\n",
       "  </thead>\n",
       "  <tbody>\n",
       "    <tr>\n",
       "      <th>1</th>\n",
       "      <td>2022-10-19 09:30:00</td>\n",
       "      <td>41.630001068115234</td>\n",
       "      <td>41.709999084472656</td>\n",
       "      <td>41.54999923706055</td>\n",
       "      <td>41.709999084472656</td>\n",
       "      <td>326801.0</td>\n",
       "      <td>CSCO</td>\n",
       "      <td>2022-10-19</td>\n",
       "    </tr>\n",
       "    <tr>\n",
       "      <th>2</th>\n",
       "      <td>2022-10-19 09:31:00</td>\n",
       "      <td>41.709999084472656</td>\n",
       "      <td>41.779998779296875</td>\n",
       "      <td>41.66999816894531</td>\n",
       "      <td>41.77000045776367</td>\n",
       "      <td>54830.0</td>\n",
       "      <td>CSCO</td>\n",
       "      <td>2022-10-19</td>\n",
       "    </tr>\n",
       "    <tr>\n",
       "      <th>3</th>\n",
       "      <td>2022-10-19 09:32:00</td>\n",
       "      <td>41.7599983215332</td>\n",
       "      <td>41.83000183105469</td>\n",
       "      <td>41.7599983215332</td>\n",
       "      <td>41.79499816894531</td>\n",
       "      <td>41168.0</td>\n",
       "      <td>CSCO</td>\n",
       "      <td>2022-10-19</td>\n",
       "    </tr>\n",
       "    <tr>\n",
       "      <th>4</th>\n",
       "      <td>2022-10-19 09:33:00</td>\n",
       "      <td>41.79999923706055</td>\n",
       "      <td>41.88999938964844</td>\n",
       "      <td>41.79999923706055</td>\n",
       "      <td>41.869998931884766</td>\n",
       "      <td>23924.0</td>\n",
       "      <td>CSCO</td>\n",
       "      <td>2022-10-19</td>\n",
       "    </tr>\n",
       "    <tr>\n",
       "      <th>5</th>\n",
       "      <td>2022-10-19 09:34:00</td>\n",
       "      <td>41.93000030517578</td>\n",
       "      <td>41.935001373291016</td>\n",
       "      <td>41.921600341796875</td>\n",
       "      <td>41.921600341796875</td>\n",
       "      <td>49410.0</td>\n",
       "      <td>CSCO</td>\n",
       "      <td>2022-10-19</td>\n",
       "    </tr>\n",
       "  </tbody>\n",
       "</table>\n",
       "</div>"
      ],
      "text/plain": [
       "                 time                open                high  \\\n",
       "1 2022-10-19 09:30:00  41.630001068115234  41.709999084472656   \n",
       "2 2022-10-19 09:31:00  41.709999084472656  41.779998779296875   \n",
       "3 2022-10-19 09:32:00    41.7599983215332   41.83000183105469   \n",
       "4 2022-10-19 09:33:00   41.79999923706055   41.88999938964844   \n",
       "5 2022-10-19 09:34:00   41.93000030517578  41.935001373291016   \n",
       "\n",
       "                  low               close    volume  name        date  \n",
       "1   41.54999923706055  41.709999084472656  326801.0  CSCO  2022-10-19  \n",
       "2   41.66999816894531   41.77000045776367   54830.0  CSCO  2022-10-19  \n",
       "3    41.7599983215332   41.79499816894531   41168.0  CSCO  2022-10-19  \n",
       "4   41.79999923706055  41.869998931884766   23924.0  CSCO  2022-10-19  \n",
       "5  41.921600341796875  41.921600341796875   49410.0  CSCO  2022-10-19  "
      ]
     },
     "execution_count": 2,
     "metadata": {},
     "output_type": "execute_result"
    }
   ],
   "source": [
    "import pandas as pd\n",
    "\n",
    "pd.read_parquet('2022-10-19.parquet').head(5)"
   ]
  },
  {
   "cell_type": "markdown",
   "metadata": {},
   "source": [
    "In the dataframe above only 1 ticker is displayed, but it actually contains price data of all the 500 S&P index stocks in that day on a minute level resolution."
   ]
  },
  {
   "cell_type": "code",
   "execution_count": 5,
   "metadata": {},
   "outputs": [
    {
     "data": {
      "text/plain": [
       "array(['CSCO', 'UAL', 'TROW', 'ISRG', 'NVR', 'TPR', 'DVN', 'CE', 'MRO',\n",
       "       'BA', 'VRTX', 'GILD', 'EQIX', 'TER', 'MDT', 'V', 'QRVO', 'A',\n",
       "       'FOX', 'FLT', 'MO', 'CTRA', 'SWKS', 'ENPH', 'MCHP', 'CDNS', 'MSCI',\n",
       "       'CHTR', 'EIX', 'KDP', 'BBY', 'WBA', 'LVS', 'HCA', 'AJG', 'DTE',\n",
       "       'C', 'T', 'CF', 'DISH', 'MGM', 'HUM', 'CBOE', 'CFG', 'APH', 'SYY',\n",
       "       'MSI', 'FCX', 'ADM', 'OGN', 'LH', 'PKI', 'LNT', 'BAC', 'LNC',\n",
       "       'PSX', 'GPN', 'PPG', 'TECH', 'IRM', 'IQV', 'ESS', 'WBD', 'HAL',\n",
       "       'STZ', 'DXC', 'PARA', 'ADI', 'F', 'ADBE', 'CPRT', 'TDG', 'TFX',\n",
       "       'ULTA', 'ARE', 'SYK', 'CB', 'TSN', 'GNRC', 'PEP', 'PEG', 'NOW',\n",
       "       'LLY', 'COST', 'REG', 'NWS', 'LOW', 'MDLZ', 'BKNG', 'ZBRA', 'FMC',\n",
       "       'XEL', 'AIZ', 'MET', 'FTV', 'DLR', 'ACGL', 'XRAY', 'FAST', 'TJX',\n",
       "       'SNA', 'MPC', 'BR', 'D', 'MRK', 'STX', 'NOC', 'BXP', 'KHC', 'IPG',\n",
       "       'UNP', 'ALLE', 'ABBV', 'CDAY', 'ORCL', 'ECL', 'ETR', 'EBAY',\n",
       "       'SBUX', 'IR', 'AMT', 'INTU', 'DPZ', 'PAYC', 'CMA', 'PG', 'CAT',\n",
       "       'ODFL', 'MCD', 'MNST', 'AMZN', 'INTC', 'PNR', 'GLW', 'BDX', 'KMI',\n",
       "       'CSGP', 'PWR', 'APTV', 'BBWI', 'DXCM', 'EXR', 'WELL', 'HOLX',\n",
       "       'EXPD', 'GM', 'TXN', 'VRSK', 'SJM', 'TMO', 'OXY', 'RL', 'CCI',\n",
       "       'MMM', 'MOS', 'FTNT', 'HSY', 'JNPR', 'DHI', 'ED', 'ES', 'ADSK',\n",
       "       'GL', 'INVH', 'IP', 'EXPE', 'KO', 'PCAR', 'WDC', 'LUMN', 'PYPL',\n",
       "       'NEE', 'UPS', 'ELV', 'EMR', 'MSFT', 'ANSS', 'CTAS', 'BIO', 'UDR',\n",
       "       'CTLT', 'WEC', 'AME', 'IT', 'DD', 'ACN', 'VRSN', 'EW', 'CMG',\n",
       "       'AWK', 'COO', 'SHW', 'HPQ', 'AMAT', 'CCL', 'MLM', 'AVY', 'AAP',\n",
       "       'ATVI', 'EVRG', 'EA', 'DE', 'SPG', 'AMD', 'KLAC', 'NDAQ', 'URI',\n",
       "       'WHR', 'RTX', 'NXPI', 'PNC', 'KMX', 'SEDG', 'WRK', 'MTCH', 'BIIB',\n",
       "       'NVDA', 'CHRW', 'ROP', 'IDXX', 'EXC', 'HES', 'HD', 'ALB', 'VLO',\n",
       "       'AON', 'ZTS', 'FDX', 'DG', 'TYL', 'HIG', 'CMS', 'CAG', 'INCY',\n",
       "       'SCHW', 'HSIC', 'AZO', 'AXP', 'HPE', 'DFS', 'SEE', 'HRL', 'SO',\n",
       "       'FRT', 'ZBH', 'FRC', 'CME', 'XOM', 'AMP', 'CVX', 'CMCSA', 'PCG',\n",
       "       'PNW', 'ICE', 'BEN', 'UHS', 'BKR', 'EMN', 'SBAC', 'ROK', 'PTC',\n",
       "       'NRG', 'NSC', 'NKE', 'FIS', 'FANG', 'VTR', 'MAS', 'RF', 'ETSY',\n",
       "       'AMCR', 'TAP', 'MAR', 'XYL', 'CMI', 'MTD', 'KR', 'PLD', 'IBM',\n",
       "       'USB', 'BSX', 'LKQ', 'FBHS', 'LIN', 'ITW', 'EOG', 'KMB', 'PEAK',\n",
       "       'SPGI', 'NEM', 'WFC', 'CTVA', 'EL', 'GS', 'GD', 'CNP', 'PM', 'RE',\n",
       "       'MCO', 'CLX', 'CAH', 'MPWR', 'DGX', 'AVB', 'DIS', 'CBRE', 'GE',\n",
       "       'HII', 'LDOS', 'ALL', 'ETN', 'ALGN', 'NFLX', 'SBNY', 'LEN', 'FITB',\n",
       "       'WST', 'GWW', 'TRGP', 'NTRS', 'CVS', 'AOS', 'FE', 'ABC', 'JPM',\n",
       "       'ABT', 'OMC', 'COF', 'TSCO', 'PH', 'HST', 'JBHT', 'MRNA', 'TSLA',\n",
       "       'MOH', 'ATO', 'COP', 'DHR', 'CNC', 'MCK', 'TXT', 'MTB', 'FDS',\n",
       "       'VTRS', 'AKAM', 'ROL', 'RMD', 'WRB', 'GOOGL', 'BRO', 'ANET',\n",
       "       'PAYX', 'ALK', 'DRI', 'ILMN', 'META', 'AAL', 'MAA', 'MMC', 'FOXA',\n",
       "       'POOL', 'CZR', 'FFIV', 'VNO', 'CINF', 'VMC', 'MKTX', 'SRE', 'LHX',\n",
       "       'ORLY', 'IVZ', 'RCL', 'PXD', 'SNPS', 'GOOG', 'EPAM', 'SIVB',\n",
       "       'NDSN', 'YUM', 'EQT', 'LYV', 'PFE', 'AVGO', 'DUK', 'REGN', 'CL',\n",
       "       'VFC', 'VZ', 'JCI', 'AMGN', 'TEL', 'JKHY', 'ADP', 'ON', 'STT',\n",
       "       'RSG', 'IFF', 'CARR', 'TRMB', 'QCOM', 'LYB', 'GIS', 'PHM', 'ROST',\n",
       "       'LUV', 'LW', 'MS', 'CPB', 'OKE', 'BK', 'J', 'SYF', 'CHD', 'HWM',\n",
       "       'MHK', 'TFC', 'DAL', 'APA', 'K', 'AFL', 'CSX', 'NI', 'CPT', 'PFG',\n",
       "       'NCLH', 'ZION', 'RJF', 'HBAN', 'UNH', 'PRU', 'GPC', 'WTW', 'FISV',\n",
       "       'WMB', 'EQR', 'DVA', 'AIG', 'MA', 'HON', 'VICI', 'O', 'NWSA',\n",
       "       'TTWO', 'AES', 'SLB', 'TT', 'TGT', 'AAPL', 'MKC', 'OTIS', 'CEG',\n",
       "       'TDY', 'WY', 'APD', 'GRMN', 'AEE', 'HLT', 'DLTR', 'STE', 'HAS',\n",
       "       'TMUS', 'WMT', 'NTAP', 'KIM', 'BAX', 'LMT', 'ABMD', 'KEY', 'KEYS',\n",
       "       'BMY', 'PSA', 'WYNN', 'RHI', 'EFX', 'NUE', 'PKG', 'WAB', 'CTSH',\n",
       "       'SWK', 'CRL', 'MU', 'TRV', 'L', 'AEP', 'CI', 'DOW', 'CDW', 'BALL',\n",
       "       'JNJ', 'WM', 'DOV', 'CRM', 'PGR', 'WAT', 'IEX', 'BWA', 'LRCX',\n",
       "       'NWL', 'BLK', 'PPL'], dtype=object)"
      ]
     },
     "execution_count": 5,
     "metadata": {},
     "output_type": "execute_result"
    }
   ],
   "source": [
    "pd.read_parquet('2022-10-19.parquet')['name'].unique() # all S&P500 tickers"
   ]
  }
 ],
 "metadata": {
  "kernelspec": {
   "display_name": "Python 3.9.10 ('base')",
   "language": "python",
   "name": "python3"
  },
  "language_info": {
   "codemirror_mode": {
    "name": "ipython",
    "version": 3
   },
   "file_extension": ".py",
   "mimetype": "text/x-python",
   "name": "python",
   "nbconvert_exporter": "python",
   "pygments_lexer": "ipython3",
   "version": "3.9.10"
  },
  "orig_nbformat": 4,
  "vscode": {
   "interpreter": {
    "hash": "c7cf1142b5ddd1e1daa93191adaf8330dff0916815175c263ce71424b6641312"
   }
  }
 },
 "nbformat": 4,
 "nbformat_minor": 2
}
